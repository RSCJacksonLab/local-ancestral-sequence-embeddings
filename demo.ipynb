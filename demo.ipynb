{
 "cells": [
  {
   "cell_type": "markdown",
   "metadata": {},
   "source": [
    "# Leveraging ancestral sequence reconstruction for protein representation learning"
   ]
  },
  {
   "cell_type": "code",
   "execution_count": 1,
   "metadata": {},
   "outputs": [],
   "source": [
    "import sys\n",
    "sys.path.append(\"./\")\n",
    "\n",
    "import pandas as pd\n",
    "from pathlib import Path\n",
    "\n",
    "from lase_tx import (\n",
    "    data_processing,\n",
    "    lase_model,\n",
    "    training,\n",
    ")"
   ]
  },
  {
   "cell_type": "code",
   "execution_count": 2,
   "metadata": {},
   "outputs": [],
   "source": [
    "# lase parameters\n",
    "n_layers = 6\n",
    "hidden_dim = 128\n",
    "num_heads = 4\n",
    "vocab_size = 20\n",
    "dropout_pr = 0.1"
   ]
  },
  {
   "cell_type": "code",
   "execution_count": 3,
   "metadata": {},
   "outputs": [],
   "source": [
    "# PLM training data\n",
    "asr_fasta = Path(\"../All_combined_processed_ancs_NR100.fasta\")\n",
    "save_dir = Path(\"../output/\")\n",
    "\n",
    "# get max seq len\n",
    "asr_seq_arr = data_processing.prepare_seqs(fasta_path=asr_fasta)\n",
    "max_seq_len = asr_seq_arr.shape[1]\n",
    "\n",
    "# Regression data\n",
    "reg_path = Path(\"./data/PTE_training_dset.csv\")"
   ]
  },
  {
   "cell_type": "markdown",
   "metadata": {},
   "source": [
    "## PLM training"
   ]
  },
  {
   "cell_type": "code",
   "execution_count": 27,
   "metadata": {},
   "outputs": [
    {
     "name": "stderr",
     "output_type": "stream",
     "text": [
      "WARNING:absl:At this time, the v2.11+ optimizer `tf.keras.optimizers.Adam` runs slowly on M1/M2 Macs, please use the legacy Keras optimizer instead, located at `tf.keras.optimizers.legacy.Adam`.\n",
      "WARNING:absl:There is a known slowdown when using v2.11+ Keras optimizers on M1/M2 Macs. Falling back to the legacy Keras optimizer, i.e., `tf.keras.optimizers.legacy.Adam`.\n",
      "WARNING:absl:At this time, the v2.11+ optimizer `tf.keras.optimizers.Adam` runs slowly on M1/M2 Macs, please use the legacy Keras optimizer instead, located at `tf.keras.optimizers.legacy.Adam`.\n"
     ]
    },
    {
     "name": "stdout",
     "output_type": "stream",
     "text": [
      "Model: \"encoder_2\"\n",
      "_________________________________________________________________\n",
      " Layer (type)                Output Shape              Param #   \n",
      "=================================================================\n",
      " positional_embedding_2 (Po  multiple                  2688      \n",
      " sitionalEmbedding)                                              \n",
      "                                                                 \n",
      " encoder_layer_12 (EncoderL  multiple                  396032    \n",
      " ayer)                                                           \n",
      "                                                                 \n",
      " encoder_layer_13 (EncoderL  multiple                  396032    \n",
      " ayer)                                                           \n",
      "                                                                 \n",
      " encoder_layer_14 (EncoderL  multiple                  396032    \n",
      " ayer)                                                           \n",
      "                                                                 \n",
      " encoder_layer_15 (EncoderL  multiple                  396032    \n",
      " ayer)                                                           \n",
      "                                                                 \n",
      " encoder_layer_16 (EncoderL  multiple                  396032    \n",
      " ayer)                                                           \n",
      "                                                                 \n",
      " encoder_layer_17 (EncoderL  multiple                  396032    \n",
      " ayer)                                                           \n",
      "                                                                 \n",
      " dropout_20 (Dropout)        multiple                  0         \n",
      "                                                                 \n",
      " time_distributed_2 (TimeDi  multiple                  2580      \n",
      " stributed)                                                      \n",
      "                                                                 \n",
      " global_average_pooling1d_2  multiple                  0         \n",
      "  (GlobalAveragePooling1D)                                       \n",
      "                                                                 \n",
      "=================================================================\n",
      "Total params: 2381460 (9.08 MB)\n",
      "Trainable params: 2381460 (9.08 MB)\n",
      "Non-trainable params: 0 (0.00 Byte)\n",
      "_________________________________________________________________\n",
      "Start of epoch 0\n"
     ]
    },
    {
     "name": "stderr",
     "output_type": "stream",
     "text": [
      "0it [00:00, ?it/s]\n"
     ]
    },
    {
     "ename": "InvalidArgumentError",
     "evalue": "Exception encountered when calling layer 'embedding_2' (type Embedding).\n\n{{function_node __wrapped__ResourceGather_device_/job:localhost/replica:0/task:0/device:CPU:0}} indices[22,166] = 21 is not in [0, 21) [Op:ResourceGather] name: \n\nCall arguments received by layer 'embedding_2' (type Embedding):\n  • inputs=tf.Tensor(shape=(32, 365), dtype=int32)",
     "output_type": "error",
     "traceback": [
      "\u001b[0;31m---------------------------------------------------------------------------\u001b[0m",
      "\u001b[0;31mInvalidArgumentError\u001b[0m                      Traceback (most recent call last)",
      "Cell \u001b[0;32mIn[27], line 11\u001b[0m\n\u001b[1;32m      2\u001b[0m encoder \u001b[38;5;241m=\u001b[39m training\u001b[38;5;241m.\u001b[39mbuild_encoder(\n\u001b[1;32m      3\u001b[0m     n_layers,\n\u001b[1;32m      4\u001b[0m     hidden_dim,\n\u001b[0;32m   (...)\u001b[0m\n\u001b[1;32m      7\u001b[0m     dropout_pr,\n\u001b[1;32m      8\u001b[0m )\n\u001b[1;32m     10\u001b[0m \u001b[38;5;66;03m# train and save model\u001b[39;00m\n\u001b[0;32m---> 11\u001b[0m \u001b[43mtraining\u001b[49m\u001b[38;5;241;43m.\u001b[39;49m\u001b[43mtrain_encoder\u001b[49m\u001b[43m(\u001b[49m\n\u001b[1;32m     12\u001b[0m \u001b[43m    \u001b[49m\u001b[43mencoder\u001b[49m\u001b[38;5;241;43m=\u001b[39;49m\u001b[43mencoder\u001b[49m\u001b[43m,\u001b[49m\n\u001b[1;32m     13\u001b[0m \u001b[43m    \u001b[49m\u001b[43mfasta_path\u001b[49m\u001b[38;5;241;43m=\u001b[39;49m\u001b[43masr_fasta\u001b[49m\u001b[43m,\u001b[49m\n\u001b[1;32m     14\u001b[0m \u001b[43m    \u001b[49m\u001b[43mweight_dir\u001b[49m\u001b[38;5;241;43m=\u001b[39;49m\u001b[43msave_dir\u001b[49m\u001b[43m,\u001b[49m\n\u001b[1;32m     15\u001b[0m \u001b[43m    \u001b[49m\u001b[43minit_seed\u001b[49m\u001b[38;5;241;43m=\u001b[39;49m\u001b[38;5;241;43m0\u001b[39;49m\u001b[43m,\u001b[49m\n\u001b[1;32m     16\u001b[0m \u001b[43m    \u001b[49m\u001b[43mmax_epochs\u001b[49m\u001b[38;5;241;43m=\u001b[39;49m\u001b[38;5;241;43m25\u001b[39;49m\n\u001b[1;32m     17\u001b[0m \u001b[43m)\u001b[49m\n",
      "File \u001b[0;32m~/Documents/Code/local-ancestral-sequence-embeddings/lase_tx/training.py:65\u001b[0m, in \u001b[0;36mtrain_encoder\u001b[0;34m(encoder, fasta_path, weight_dir, init_seed, max_epochs, patience)\u001b[0m\n\u001b[1;32m     63\u001b[0m x_batch_trn, y_batch_trn, sample_weight \u001b[38;5;241m=\u001b[39m data\n\u001b[1;32m     64\u001b[0m \u001b[38;5;28;01mwith\u001b[39;00m tf\u001b[38;5;241m.\u001b[39mGradientTape() \u001b[38;5;28;01mas\u001b[39;00m tape:\n\u001b[0;32m---> 65\u001b[0m     logits \u001b[38;5;241m=\u001b[39m \u001b[43mencoder\u001b[49m\u001b[43m(\u001b[49m\u001b[43mx_batch_trn\u001b[49m\u001b[43m,\u001b[49m\u001b[43mtraining\u001b[49m\u001b[38;5;241;43m=\u001b[39;49m\u001b[38;5;28;43;01mTrue\u001b[39;49;00m\u001b[43m)\u001b[49m[\u001b[38;5;241m0\u001b[39m]\n\u001b[1;32m     66\u001b[0m     loss \u001b[38;5;241m=\u001b[39m loss_fn(\n\u001b[1;32m     67\u001b[0m         y_batch_trn, \n\u001b[1;32m     68\u001b[0m         logits, \n\u001b[1;32m     69\u001b[0m         sample_weight\u001b[38;5;241m=\u001b[39msample_weight\n\u001b[1;32m     70\u001b[0m     )\n\u001b[1;32m     71\u001b[0m grads \u001b[38;5;241m=\u001b[39m tape\u001b[38;5;241m.\u001b[39mgradient(loss, encoder\u001b[38;5;241m.\u001b[39mtrainable_weights)\n",
      "File \u001b[0;32m~/PyEnvs/LASE/lib/python3.10/site-packages/keras/src/utils/traceback_utils.py:70\u001b[0m, in \u001b[0;36mfilter_traceback.<locals>.error_handler\u001b[0;34m(*args, **kwargs)\u001b[0m\n\u001b[1;32m     67\u001b[0m     filtered_tb \u001b[38;5;241m=\u001b[39m _process_traceback_frames(e\u001b[38;5;241m.\u001b[39m__traceback__)\n\u001b[1;32m     68\u001b[0m     \u001b[38;5;66;03m# To get the full stack trace, call:\u001b[39;00m\n\u001b[1;32m     69\u001b[0m     \u001b[38;5;66;03m# `tf.debugging.disable_traceback_filtering()`\u001b[39;00m\n\u001b[0;32m---> 70\u001b[0m     \u001b[38;5;28;01mraise\u001b[39;00m e\u001b[38;5;241m.\u001b[39mwith_traceback(filtered_tb) \u001b[38;5;28;01mfrom\u001b[39;00m \u001b[38;5;28;01mNone\u001b[39;00m\n\u001b[1;32m     71\u001b[0m \u001b[38;5;28;01mfinally\u001b[39;00m:\n\u001b[1;32m     72\u001b[0m     \u001b[38;5;28;01mdel\u001b[39;00m filtered_tb\n",
      "File \u001b[0;32m~/Documents/Code/local-ancestral-sequence-embeddings/lase_tx/lase_model.py:131\u001b[0m, in \u001b[0;36mEncoder.call\u001b[0;34m(self, x)\u001b[0m\n\u001b[1;32m    130\u001b[0m \u001b[38;5;28;01mdef\u001b[39;00m \u001b[38;5;21mcall\u001b[39m(\u001b[38;5;28mself\u001b[39m, x):\n\u001b[0;32m--> 131\u001b[0m     x \u001b[38;5;241m=\u001b[39m \u001b[38;5;28;43mself\u001b[39;49m\u001b[38;5;241;43m.\u001b[39;49m\u001b[43mpos_embedding\u001b[49m\u001b[43m(\u001b[49m\u001b[43mx\u001b[49m\u001b[43m)\u001b[49m\n\u001b[1;32m    132\u001b[0m     x \u001b[38;5;241m=\u001b[39m \u001b[38;5;28mself\u001b[39m\u001b[38;5;241m.\u001b[39mdropout(x)\n\u001b[1;32m    133\u001b[0m     x_layers \u001b[38;5;241m=\u001b[39m []\n",
      "File \u001b[0;32m~/Documents/Code/local-ancestral-sequence-embeddings/lase_tx/lase_model.py:42\u001b[0m, in \u001b[0;36mPositionalEmbedding.call\u001b[0;34m(self, x)\u001b[0m\n\u001b[1;32m     40\u001b[0m \u001b[38;5;28;01mdef\u001b[39;00m \u001b[38;5;21mcall\u001b[39m(\u001b[38;5;28mself\u001b[39m, x):\n\u001b[1;32m     41\u001b[0m     length \u001b[38;5;241m=\u001b[39m tf\u001b[38;5;241m.\u001b[39mshape(x)[\u001b[38;5;241m1\u001b[39m]\n\u001b[0;32m---> 42\u001b[0m     x \u001b[38;5;241m=\u001b[39m \u001b[38;5;28;43mself\u001b[39;49m\u001b[38;5;241;43m.\u001b[39;49m\u001b[43membedding\u001b[49m\u001b[43m(\u001b[49m\u001b[43mx\u001b[49m\u001b[43m)\u001b[49m\n\u001b[1;32m     43\u001b[0m     x \u001b[38;5;241m*\u001b[39m\u001b[38;5;241m=\u001b[39m tf\u001b[38;5;241m.\u001b[39mmath\u001b[38;5;241m.\u001b[39msqrt(tf\u001b[38;5;241m.\u001b[39mcast(\u001b[38;5;28mself\u001b[39m\u001b[38;5;241m.\u001b[39mhidden_dim, tf\u001b[38;5;241m.\u001b[39mfloat32))\n\u001b[1;32m     44\u001b[0m     x \u001b[38;5;241m+\u001b[39m\u001b[38;5;241m=\u001b[39m \u001b[38;5;28mself\u001b[39m\u001b[38;5;241m.\u001b[39mpositional_encoding[tf\u001b[38;5;241m.\u001b[39mnewaxis, :length, :]\n",
      "\u001b[0;31mInvalidArgumentError\u001b[0m: Exception encountered when calling layer 'embedding_2' (type Embedding).\n\n{{function_node __wrapped__ResourceGather_device_/job:localhost/replica:0/task:0/device:CPU:0}} indices[22,166] = 21 is not in [0, 21) [Op:ResourceGather] name: \n\nCall arguments received by layer 'embedding_2' (type Embedding):\n  • inputs=tf.Tensor(shape=(32, 365), dtype=int32)"
     ]
    }
   ],
   "source": [
    "# build encoder model \n",
    "encoder = training.build_encoder(\n",
    "    n_layers,\n",
    "    hidden_dim,\n",
    "    num_heads,\n",
    "    max_seq_len,\n",
    "    dropout_pr,\n",
    ")\n",
    "\n",
    "# train and save model\n",
    "training.train_encoder(\n",
    "    encoder=encoder,\n",
    "    fasta_path=asr_fasta,\n",
    "    weight_dir=save_dir,\n",
    "    init_seed=0,\n",
    "    max_epochs=25\n",
    ")"
   ]
  },
  {
   "cell_type": "markdown",
   "metadata": {},
   "source": [
    "## Extract representations"
   ]
  },
  {
   "cell_type": "code",
   "execution_count": 5,
   "metadata": {},
   "outputs": [],
   "source": [
    "# load regression sequences and labels\n",
    "\n",
    "df = pd.read_csv(reg_path)\n",
    "reg_seq_ls = df.Sequence.tolist()\n",
    "reg_label_arr = df.Fitness.to_numpy()\n",
    "\n",
    "reg_seq_arr = data_processing.prepare_seqs(seq_ls=reg_seq_ls)"
   ]
  },
  {
   "cell_type": "code",
   "execution_count": null,
   "metadata": {},
   "outputs": [],
   "source": [
    "# load pre-trained model\n",
    "\n",
    "encoder_model = lase_model.Encoder(\n",
    "    n_layers,\n",
    "    hidden_dim,\n",
    "    num_heads,\n",
    "    vocab_size,\n",
    "    max_seq_len,\n",
    "    dropout_pr,\n",
    ")\n",
    "\n",
    "encoder_model.load_weights(save_dir + \"\")\n",
    "\n",
    "# extract representations for regression data\n",
    "_, rep_arr, _ = encoder_model(reg_seq_arr)"
   ]
  },
  {
   "cell_type": "markdown",
   "metadata": {},
   "source": [
    "# Train Scikit-learn regression models"
   ]
  },
  {
   "cell_type": "markdown",
   "metadata": {},
   "source": [
    "Scikit learn regressor models are trained using the shell script `./sklearn_regressors/sklearn_parallel.sh`."
   ]
  },
  {
   "cell_type": "markdown",
   "metadata": {},
   "source": [
    "# *In Silico* Evolution"
   ]
  },
  {
   "cell_type": "markdown",
   "metadata": {},
   "source": []
  }
 ],
 "metadata": {
  "kernelspec": {
   "display_name": "LASE",
   "language": "python",
   "name": "python3"
  },
  "language_info": {
   "codemirror_mode": {
    "name": "ipython",
    "version": 3
   },
   "file_extension": ".py",
   "mimetype": "text/x-python",
   "name": "python",
   "nbconvert_exporter": "python",
   "pygments_lexer": "ipython3",
   "version": "3.10.13"
  }
 },
 "nbformat": 4,
 "nbformat_minor": 2
}
